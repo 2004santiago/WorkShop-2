{
 "cells": [
  {
   "cell_type": "markdown",
   "metadata": {},
   "source": [
    "# EDA dataset Grammy"
   ]
  },
  {
   "cell_type": "markdown",
   "metadata": {},
   "source": [
    "### This EDA aims to clean and analyze the dataframe: 'the_grammy_awards'. We obtained it from the Kaggle website, and this DataFrame is stored locally in a PostgreSQL database."
   ]
  },
  {
   "cell_type": "markdown",
   "metadata": {},
   "source": [
    "Import of the necessary libraries"
   ]
  },
  {
   "cell_type": "code",
   "execution_count": 16,
   "metadata": {},
   "outputs": [],
   "source": [
    "import pandas as pd\n",
    "import numpy as np\n",
    "import matplotlib.pyplot as plt\n",
    "from sqlalchemy import create_engine, inspect\n",
    "from dotenv import load_dotenv\n",
    "import os\n"
   ]
  },
  {
   "cell_type": "markdown",
   "metadata": {},
   "source": [
    "Get connection to data base"
   ]
  },
  {
   "cell_type": "code",
   "execution_count": 27,
   "metadata": {},
   "outputs": [
    {
     "name": "stdout",
     "output_type": "stream",
     "text": [
      "Successfully connected to the database.\n"
     ]
    }
   ],
   "source": [
    "load_dotenv()\n",
    "\n",
    "localhost = os.getenv('LOCALHOST')\n",
    "port = os.getenv('PORT')\n",
    "nameDB = os.getenv('DB_NAME')\n",
    "userDB = os.getenv('DB_USER')\n",
    "passDB = os.getenv('DB_PASS')\n",
    "\n",
    "try:\n",
    "    engine = create_engine(f'postgresql+psycopg2://{userDB}:{passDB}@{localhost}:{port}/{nameDB}')\n",
    "    inspector = inspect(engine)\n",
    "    \n",
    "    connection = engine.connect()\n",
    "    print(\"Successfully connected to the database.\")\n",
    "    \n",
    "    connection.close()\n",
    "\n",
    "except Exception as e:\n",
    "    print(f\"Failed to connect to the database: {e}\")"
   ]
  },
  {
   "cell_type": "markdown",
   "metadata": {},
   "source": [
    "We retrieve the data from the database and then print them to take a look at the data types and columns it contains."
   ]
  },
  {
   "cell_type": "code",
   "execution_count": 32,
   "metadata": {},
   "outputs": [
    {
     "name": "stdout",
     "output_type": "stream",
     "text": [
      "<class 'pandas.core.frame.DataFrame'>\n",
      "RangeIndex: 4810 entries, 0 to 4809\n",
      "Data columns (total 10 columns):\n",
      " #   Column        Non-Null Count  Dtype \n",
      "---  ------        --------------  ----- \n",
      " 0   year          4810 non-null   int64 \n",
      " 1   title         4810 non-null   object\n",
      " 2   published_at  4810 non-null   object\n",
      " 3   updated_at    4810 non-null   object\n",
      " 4   category      4810 non-null   object\n",
      " 5   nominee       4804 non-null   object\n",
      " 6   artist        2970 non-null   object\n",
      " 7   workers       2620 non-null   object\n",
      " 8   img           3443 non-null   object\n",
      " 9   winner        4810 non-null   bool  \n",
      "dtypes: bool(1), int64(1), object(8)\n",
      "memory usage: 343.0+ KB\n",
      "None\n"
     ]
    }
   ],
   "source": [
    "dataframe = 'grammy_awards'  \n",
    "\n",
    "df = pd.read_sql_table(dataframe, engine)\n",
    "\n",
    "print(df.head())\n",
    "print(df.info())"
   ]
  },
  {
   "cell_type": "markdown",
   "metadata": {},
   "source": [
    "Now we are going to check the data type of each column."
   ]
  },
  {
   "cell_type": "code",
   "execution_count": 34,
   "metadata": {},
   "outputs": [
    {
     "name": "stdout",
     "output_type": "stream",
     "text": [
      "year             int64\n",
      "title           object\n",
      "published_at    object\n",
      "updated_at      object\n",
      "category        object\n",
      "nominee         object\n",
      "artist          object\n",
      "workers         object\n",
      "winner            bool\n",
      "dtype: object\n"
     ]
    }
   ],
   "source": [
    "print(df.dtypes)"
   ]
  },
  {
   "cell_type": "markdown",
   "metadata": {},
   "source": [
    "We delete the 'img' column since it only contains links that we will not access, and it doesn't provide any value or meaning to the dataframe."
   ]
  },
  {
   "cell_type": "code",
   "execution_count": 33,
   "metadata": {},
   "outputs": [
    {
     "name": "stdout",
     "output_type": "stream",
     "text": [
      "<class 'pandas.core.frame.DataFrame'>\n",
      "RangeIndex: 4810 entries, 0 to 4809\n",
      "Data columns (total 9 columns):\n",
      " #   Column        Non-Null Count  Dtype \n",
      "---  ------        --------------  ----- \n",
      " 0   year          4810 non-null   int64 \n",
      " 1   title         4810 non-null   object\n",
      " 2   published_at  4810 non-null   object\n",
      " 3   updated_at    4810 non-null   object\n",
      " 4   category      4810 non-null   object\n",
      " 5   nominee       4804 non-null   object\n",
      " 6   artist        2970 non-null   object\n",
      " 7   workers       2620 non-null   object\n",
      " 8   winner        4810 non-null   bool  \n",
      "dtypes: bool(1), int64(1), object(7)\n",
      "memory usage: 305.5+ KB\n",
      "None\n"
     ]
    }
   ],
   "source": [
    "df = df.drop(columns=\"img\")\n",
    "print(df.info())"
   ]
  },
  {
   "cell_type": "markdown",
   "metadata": {},
   "source": [
    "Now let see how many null values we have"
   ]
  },
  {
   "cell_type": "code",
   "execution_count": 20,
   "metadata": {},
   "outputs": [
    {
     "name": "stdout",
     "output_type": "stream",
     "text": [
      "year               0\n",
      "title              0\n",
      "published_at       0\n",
      "updated_at         0\n",
      "category           0\n",
      "nominee            6\n",
      "artist          1840\n",
      "workers         2190\n",
      "winner             0\n",
      "dtype: int64\n"
     ]
    }
   ],
   "source": [
    "null_data = df.isnull().sum()\n",
    "print(null_data)"
   ]
  },
  {
   "cell_type": "markdown",
   "metadata": {},
   "source": [
    "We delete the rows that contain null values in the 'artist' column because they are important data for the analysis, and without them, there is no value. This will help keep this column free of nulls to create better graphs during the analysis."
   ]
  },
  {
   "cell_type": "code",
   "execution_count": 23,
   "metadata": {},
   "outputs": [
    {
     "name": "stdout",
     "output_type": "stream",
     "text": [
      "year               0\n",
      "title              0\n",
      "published_at       0\n",
      "updated_at         0\n",
      "category           0\n",
      "nominee            0\n",
      "artist             0\n",
      "workers         2004\n",
      "winner             0\n",
      "dtype: int64\n"
     ]
    }
   ],
   "source": [
    "df = df.dropna(subset=[\"artist\"])\n",
    "null_data = df.isnull().sum()\n",
    "print(null_data)"
   ]
  },
  {
   "cell_type": "code",
   "execution_count": 25,
   "metadata": {},
   "outputs": [
    {
     "name": "stdout",
     "output_type": "stream",
     "text": [
      "<class 'pandas.core.frame.DataFrame'>\n",
      "Index: 2970 entries, 0 to 4803\n",
      "Data columns (total 9 columns):\n",
      " #   Column        Non-Null Count  Dtype \n",
      "---  ------        --------------  ----- \n",
      " 0   year          2970 non-null   int64 \n",
      " 1   title         2970 non-null   object\n",
      " 2   published_at  2970 non-null   object\n",
      " 3   updated_at    2970 non-null   object\n",
      " 4   category      2970 non-null   object\n",
      " 5   nominee       2970 non-null   object\n",
      " 6   artist        2970 non-null   object\n",
      " 7   workers       2970 non-null   object\n",
      " 8   winner        2970 non-null   bool  \n",
      "dtypes: bool(1), int64(1), object(7)\n",
      "memory usage: 211.7+ KB\n",
      "None\n"
     ]
    }
   ],
   "source": [
    "df['workers'].fillna('Unknown', inplace=True)\n",
    "print(df.info())"
   ]
  },
  {
   "cell_type": "code",
   "execution_count": null,
   "metadata": {},
   "outputs": [],
   "source": []
  },
  {
   "cell_type": "code",
   "execution_count": null,
   "metadata": {},
   "outputs": [],
   "source": [
    "# try:\n",
    "#     df.to_sql('grammy_awards', engine, if_exists='replace', index=False)\n",
    "\n",
    "#     print(f\"Table 'grammy_awards' updated.\")\n",
    "\n",
    "# except Exception as e:\n",
    "#     print(f\"Error uploading data: {e}\")\n",
    "\n",
    "# finally:\n",
    "#     engine.dispose()"
   ]
  },
  {
   "cell_type": "markdown",
   "metadata": {},
   "source": []
  },
  {
   "cell_type": "code",
   "execution_count": null,
   "metadata": {},
   "outputs": [],
   "source": []
  }
 ],
 "metadata": {
  "kernelspec": {
   "display_name": "workshop_second_delivery-JuwIq9Fz-py3.12",
   "language": "python",
   "name": "python3"
  },
  "language_info": {
   "codemirror_mode": {
    "name": "ipython",
    "version": 3
   },
   "file_extension": ".py",
   "mimetype": "text/x-python",
   "name": "python",
   "nbconvert_exporter": "python",
   "pygments_lexer": "ipython3",
   "version": "3.12.3"
  }
 },
 "nbformat": 4,
 "nbformat_minor": 2
}

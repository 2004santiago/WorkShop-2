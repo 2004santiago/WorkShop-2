{
 "cells": [
  {
   "cell_type": "markdown",
   "metadata": {},
   "source": []
  },
  {
   "cell_type": "markdown",
   "metadata": {},
   "source": [
    "Import of the necessary libraries"
   ]
  },
  {
   "cell_type": "code",
   "execution_count": 1,
   "metadata": {},
   "outputs": [],
   "source": [
    "import pandas as pd\n",
    "import numpy as np\n",
    "import matplotlib.pyplot as plt\n",
    "from sqlalchemy import create_engine, inspect\n",
    "from dotenv import load_dotenv\n",
    "import os\n"
   ]
  },
  {
   "cell_type": "markdown",
   "metadata": {},
   "source": [
    "Get connection to data base"
   ]
  },
  {
   "cell_type": "code",
   "execution_count": 2,
   "metadata": {},
   "outputs": [
    {
     "name": "stdout",
     "output_type": "stream",
     "text": [
      "Successfully connected to the database.\n"
     ]
    }
   ],
   "source": [
    "load_dotenv()\n",
    "\n",
    "localhost = os.getenv('LOCALHOST')\n",
    "port = os.getenv('PORT')\n",
    "nameDB = os.getenv('DB_NAME')\n",
    "userDB = os.getenv('DB_USER')\n",
    "passDB = os.getenv('DB_PASS')\n",
    "\n",
    "try:\n",
    "    engine = create_engine(f'postgresql+psycopg2://{userDB}:{passDB}@{localhost}:{port}/{nameDB}')\n",
    "    inspector = inspect(engine)\n",
    "    \n",
    "    connection = engine.connect()\n",
    "    print(\"Successfully connected to the database.\")\n",
    "    \n",
    "    connection.close()\n",
    "\n",
    "except Exception as e:\n",
    "    print(f\"Failed to connect to the database: {e}\")"
   ]
  },
  {
   "cell_type": "markdown",
   "metadata": {},
   "source": [
    "Get data from data base using sqlalchemy"
   ]
  },
  {
   "cell_type": "code",
   "execution_count": 3,
   "metadata": {},
   "outputs": [
    {
     "name": "stdout",
     "output_type": "stream",
     "text": [
      "   year                              title               published_at  \\\n",
      "0  2019  62nd Annual GRAMMY Awards  (2019)  2020-05-19T05:10:28-07:00   \n",
      "1  2019  62nd Annual GRAMMY Awards  (2019)  2020-05-19T05:10:28-07:00   \n",
      "2  2019  62nd Annual GRAMMY Awards  (2019)  2020-05-19T05:10:28-07:00   \n",
      "3  2019  62nd Annual GRAMMY Awards  (2019)  2020-05-19T05:10:28-07:00   \n",
      "4  2019  62nd Annual GRAMMY Awards  (2019)  2020-05-19T05:10:28-07:00   \n",
      "\n",
      "                  updated_at            category     nominee         artist  \\\n",
      "0  2020-05-19T05:10:28-07:00  Record Of The Year     Bad Guy  Billie Eilish   \n",
      "1  2020-05-19T05:10:28-07:00  Record Of The Year     Hey, Ma       Bon Iver   \n",
      "2  2020-05-19T05:10:28-07:00  Record Of The Year     7 rings  Ariana Grande   \n",
      "3  2020-05-19T05:10:28-07:00  Record Of The Year  Hard Place         H.E.R.   \n",
      "4  2020-05-19T05:10:28-07:00  Record Of The Year        Talk         Khalid   \n",
      "\n",
      "                                             workers  \\\n",
      "0  Finneas O'Connell, producer; Rob Kinelski & Fi...   \n",
      "1  BJ Burton, Brad Cook, Chris Messina & Justin V...   \n",
      "2  Charles Anderson, Tommy Brown, Michael Foster ...   \n",
      "3  Rodney “Darkchild” Jerkins, producer; Joseph H...   \n",
      "4  Disclosure & Denis Kosiak, producers; Ingmar C...   \n",
      "\n",
      "                                                 img  winner  \n",
      "0  https://www.grammy.com/sites/com/files/styles/...    True  \n",
      "1  https://www.grammy.com/sites/com/files/styles/...    True  \n",
      "2  https://www.grammy.com/sites/com/files/styles/...    True  \n",
      "3  https://www.grammy.com/sites/com/files/styles/...    True  \n",
      "4  https://www.grammy.com/sites/com/files/styles/...    True  \n",
      "<class 'pandas.core.frame.DataFrame'>\n",
      "RangeIndex: 4810 entries, 0 to 4809\n",
      "Data columns (total 10 columns):\n",
      " #   Column        Non-Null Count  Dtype \n",
      "---  ------        --------------  ----- \n",
      " 0   year          4810 non-null   int64 \n",
      " 1   title         4810 non-null   object\n",
      " 2   published_at  4810 non-null   object\n",
      " 3   updated_at    4810 non-null   object\n",
      " 4   category      4810 non-null   object\n",
      " 5   nominee       4804 non-null   object\n",
      " 6   artist        2970 non-null   object\n",
      " 7   workers       2620 non-null   object\n",
      " 8   img           3443 non-null   object\n",
      " 9   winner        4810 non-null   bool  \n",
      "dtypes: bool(1), int64(1), object(8)\n",
      "memory usage: 343.0+ KB\n",
      "None\n"
     ]
    }
   ],
   "source": [
    "dataframe = 'grammy_awards'  \n",
    "\n",
    "df = pd.read_sql_table(dataframe, engine)\n",
    "\n",
    "print(df.head())\n",
    "print(df.info())"
   ]
  },
  {
   "cell_type": "markdown",
   "metadata": {},
   "source": []
  },
  {
   "cell_type": "code",
   "execution_count": null,
   "metadata": {},
   "outputs": [],
   "source": []
  }
 ],
 "metadata": {
  "kernelspec": {
   "display_name": "workshop_second_delivery-JuwIq9Fz-py3.12",
   "language": "python",
   "name": "python3"
  },
  "language_info": {
   "codemirror_mode": {
    "name": "ipython",
    "version": 3
   },
   "file_extension": ".py",
   "mimetype": "text/x-python",
   "name": "python",
   "nbconvert_exporter": "python",
   "pygments_lexer": "ipython3",
   "version": "3.12.3"
  }
 },
 "nbformat": 4,
 "nbformat_minor": 2
}
